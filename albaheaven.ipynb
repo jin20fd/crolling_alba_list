{
 "cells": [
  {
   "cell_type": "code",
   "execution_count": 1,
   "id": "473cd8ee",
   "metadata": {},
   "outputs": [],
   "source": [
    "from selenium import webdriver\n",
    "from selenium.webdriver.edge.service import Service\n",
    "from webdriver_manager.microsoft import EdgeChromiumDriverManager\n",
    "from selenium.webdriver.common.by import By\n",
    "import time\n",
    "import csv\n",
    "import re\n",
    "from bs4 import BeautifulSoup\n",
    "import requests"
   ]
  },
  {
   "cell_type": "code",
   "execution_count": 2,
   "id": "0b7b9ccc",
   "metadata": {},
   "outputs": [
    {
     "data": {
      "text/plain": [
       "98"
      ]
     },
     "execution_count": 2,
     "metadata": {},
     "output_type": "execute_result"
    }
   ],
   "source": [
    "# csv파일 생성 및 쓰기\n",
    "f = open(\"albaheaven.csv\", \"w\")\n",
    "wrt = csv.writer(f)\n",
    "wrt.writerow([\"근무지역\", \"기업명\", \"공고 제목 및 내용\", \"근무시간\", \"급여\", \"공고 등록일\", \"공고글URL\",\"성별\", \"연령\", \"모집직종\", \"급여\", \"근무기간\", \"근무요일\", \"근무시간\", \"담당자명\", \"연락처\", \"지원방법\", \"지원마감일\", \"근무지주소\"])"
   ]
  },
  {
   "cell_type": "code",
   "execution_count": 3,
   "id": "fa546e7b",
   "metadata": {},
   "outputs": [
    {
     "name": "stderr",
     "output_type": "stream",
     "text": [
      "[WDM] - Downloading: 100%|████████████████████████████████████████████████████████| 7.86M/7.86M [00:01<00:00, 6.28MB/s]\n"
     ]
    }
   ],
   "source": [
    "# 자동화된 Edge 창 실행\n",
    "edge_driver = EdgeChromiumDriverManager().install()\n",
    "service = Service(edge_driver)\n",
    "driver = webdriver.Edge(service=service)"
   ]
  },
  {
   "cell_type": "code",
   "execution_count": 4,
   "id": "dc769f01",
   "metadata": {},
   "outputs": [],
   "source": [
    "# 알바천국 웹페이지 접속(광진구, 알바에 해당하는 데이터만 필터링)\n",
    "url = \"https://www.alba.co.kr/job/main.asp?WsSrchKeywordWord=&hidschContainText=&hidWsearchInOut=&hidSort=&hidSortOrder=&hidSortDate=&hidListView=LIST&hidSortCnt=50&hidSortFilter=N&hidJobKind=&hidJobKindMulti=&page=1&hidSearchyn=Y&strAreaMulti=02%7C%7C%EA%B4%91%EC%A7%84%EA%B5%AC%7C%7C%EC%A0%84%EC%B2%B4&schtext=&selGugun=%EA%B4%91%EC%A7%84%EA%B5%AC&selDong=%EC%A0%84%EC%B2%B4&hiretypecd=K01&lastschoolcd=&agelimit=&careercd=&searchterm=&hidCareerCD=&hidLastSchoolCD=&hidLastPayCD=&hidPayStart=&sortCnt=50\"\n",
    "driver.get(url)\n",
    "time.sleep(2)"
   ]
  },
  {
   "cell_type": "code",
   "execution_count": 5,
   "id": "8368f01d",
   "metadata": {},
   "outputs": [],
   "source": [
    "# 선택된 창이 꼬이지 않도록 초기화\n",
    "driver.switch_to.window(driver.window_handles[0])"
   ]
  },
  {
   "cell_type": "code",
   "execution_count": 6,
   "id": "83ded2b9",
   "metadata": {},
   "outputs": [],
   "source": [
    "# 검색 화면 공고 리스트\n",
    "# tbodys = driver.find_elements(By.XPATH, \"/html/body/div[3]/form/div/div[2]/table/tbody\")"
   ]
  },
  {
   "cell_type": "code",
   "execution_count": 7,
   "id": "f213e9eb",
   "metadata": {},
   "outputs": [],
   "source": [
    "# rows = []\n",
    "# for tbody in tbodys:\n",
    "#     rows.extend(tbody.find_elements(By.TAG_NAME, \"tr\"))\n"
   ]
  },
  {
   "cell_type": "code",
   "execution_count": 8,
   "id": "677f4af9",
   "metadata": {},
   "outputs": [
    {
     "name": "stdout",
     "output_type": "stream",
     "text": [
      "50\n"
     ]
    }
   ],
   "source": [
    "tbodys = driver.find_elements(By.XPATH, \"/html/body/div[3]/form/div/div[2]/table/tbody\")\n",
    "rows = []\n",
    "for tbody in tbodys:\n",
    "    tr_elements = tbody.find_elements(By.TAG_NAME, \"tr\")\n",
    "    filtered_tr_elements = [tr for tr in tr_elements if tr.get_attribute(\"class\") != \"summaryView\"]\n",
    "    rows.extend(filtered_tr_elements)\n",
    "print(len(rows))"
   ]
  },
  {
   "cell_type": "code",
   "execution_count": 9,
   "id": "56705571",
   "metadata": {},
   "outputs": [
    {
     "name": "stdout",
     "output_type": "stream",
     "text": [
      "50\n"
     ]
    }
   ],
   "source": [
    "\n",
    "tbodys = driver.find_elements(By.XPATH, \"/html/body/div[3]/form/div/div[2]/table/tbody\")\n",
    "rows = []\n",
    "for tbody in tbodys:\n",
    "    tr_elements = tbody.find_elements(By.TAG_NAME, \"tr\")\n",
    "    filtered_tr_elements = [tr for tr in tr_elements if tr.get_attribute(\"class\") != \"summaryView\"]\n",
    "    rows.extend(filtered_tr_elements)\n",
    "print(len(rows))\n",
    "\n",
    "\n",
    "# In[173]:\n",
    "\n",
    "\n",
    "for row in rows:\n",
    "    link = row.find_element(By.CSS_SELECTOR, \".goodsList .title a\")\n",
    "    link_url = link.get_attribute(\"href\")\n",
    "   \n",
    "\n",
    "    location = row.find_element(By.CLASS_NAME, \"local\").text\n",
    "    company = row.find_element(By.CLASS_NAME, \"company\").text\n",
    "    title = row.find_element(By.CLASS_NAME, \"title\").text\n",
    "    time_info = row.find_element(By.CLASS_NAME, \"data\").text\n",
    "    pay = row.find_element(By.CLASS_NAME, \"pay\").text\n",
    "    reg_date = row.find_element(By.CLASS_NAME, \"regDate\").text\n",
    "\n",
    "    \n",
    "    # 링크에 접속\n",
    "    driver.execute_script(\"window.open(arguments[0]);\", link_url)\n",
    "    time.sleep(2)\n",
    "    \n",
    "    # 새 탭으로 전환\n",
    "    driver.switch_to.window(driver.window_handles[-1])\n",
    "    \n",
    "    # BeautifulSoup으로 HTML 파싱\n",
    "    soup = BeautifulSoup(driver.page_source, \"html.parser\")\n",
    "\n",
    "    # 상세 조건 리스트 선택\n",
    "    condition_list = soup.find(\"div\", class_=\"detail-content__condition-list\")\n",
    "\n",
    "    # 각 dl 태그에서 변수명과 변수값 가져오기\n",
    "    details = {}\n",
    "    dl_tags = condition_list.find_all(\"dl\")\n",
    "    for dl in dl_tags:\n",
    "        dt = dl.find(\"dt\").get_text(strip=True)\n",
    "        if dl.find(\"dd\")!=None:\n",
    "            dd = dl.find(\"dd\").get_text(strip=True)\n",
    "        details[dt] = dd\n",
    "\n",
    "\n",
    "    # 상세 조건 리스트 선택\n",
    "    condition_list = soup.find(\"div\", class_=\"detail-content__condition-list detail-content__list--last\")\n",
    "\n",
    "    # 각 dl 태그에서 변수명과 변수값 가져오기\n",
    "    dl_tags = condition_list.find_all(\"dl\")\n",
    "    for dl in dl_tags:\n",
    "        dt = dl.find(\"dt\").get_text(strip=True)\n",
    "        if dl.find(\"dd\")!=None:\n",
    "            dd = dl.find(\"dd\").get_text(strip=True)\n",
    "        details[dt] = dd\n",
    "\n",
    "    # 상세 조건 리스트 선택\n",
    "    condition_list = soup.find(\"div\", class_=\"detail-content__recruit-list\")\n",
    "\n",
    "    # 각 dl 태그에서 변수명과 변수값 가져오기\n",
    "    dl_tags = condition_list.find_all(\"dl\")\n",
    "    for dl in dl_tags:\n",
    "        dt = dl.find(\"dt\").get_text(strip=True)\n",
    "        if dl.find(\"dd\")!=None:\n",
    "            dd = dl.find(\"dd\").get_text(strip=True)\n",
    "        details[dt] = dd\n",
    "    \n",
    "    # 지원방법\n",
    "    elements = driver.find_elements(By.CSS_SELECTOR, \".detail-content__recruit--button a\")\n",
    "    apply = [element.text for element in elements]\n",
    "\n",
    "    # 공고마감일\n",
    "    deadline_element = driver.find_element(By.CLASS_NAME, \"detail-content__recruit--date.itemDate\")\n",
    "    deadline = deadline_element.text\n",
    "    \n",
    "    \n",
    "    # 근무지주소\n",
    "    condition_element = driver.find_element(By.ID, \"InfoWork\")\n",
    "    dl_tags = condition_element.find_elements(By.TAG_NAME, \"dl\")\n",
    "\n",
    "    address = \"\"\n",
    "    for dl in dl_tags:\n",
    "        dt = dl.find_element(By.TAG_NAME, \"dt\")\n",
    "        if dt.text == \"근무지주소\":\n",
    "            dd = dl.find_element(By.TAG_NAME, \"dd\")\n",
    "            address = dd.text\n",
    "            break\n",
    "    \n",
    "    driver.close()\n",
    "    driver.switch_to.window(driver.window_handles[0])\n",
    "    \n",
    "    wrt.writerow([location, company, title, time_info, pay, reg_date, link_url, details[\"성별\"], details[\"연령\"],details[ \"모집직종\"],details[ \"급여\"], details[\"근무기간\"],details[ \"근무요일\"],details[ \"근무시간\"], details[\"담당자명\"], details[\"연락처\"], apply,deadline, address])\n"
   ]
  },
  {
   "cell_type": "code",
   "execution_count": 10,
   "id": "8128699e",
   "metadata": {},
   "outputs": [],
   "source": [
    "#공고 창 및 파일 닫기\n",
    "driver.close()\n",
    "f.close()"
   ]
  },
  {
   "cell_type": "code",
   "execution_count": null,
   "id": "9e79f005",
   "metadata": {},
   "outputs": [],
   "source": []
  },
  {
   "cell_type": "code",
   "execution_count": null,
   "id": "85950b2f",
   "metadata": {},
   "outputs": [],
   "source": []
  },
  {
   "cell_type": "code",
   "execution_count": null,
   "id": "c2720a3b",
   "metadata": {},
   "outputs": [],
   "source": []
  },
  {
   "cell_type": "code",
   "execution_count": null,
   "id": "5329c29b",
   "metadata": {},
   "outputs": [],
   "source": []
  }
 ],
 "metadata": {
  "kernelspec": {
   "display_name": "Python 3 (ipykernel)",
   "language": "python",
   "name": "python3"
  },
  "language_info": {
   "codemirror_mode": {
    "name": "ipython",
    "version": 3
   },
   "file_extension": ".py",
   "mimetype": "text/x-python",
   "name": "python",
   "nbconvert_exporter": "python",
   "pygments_lexer": "ipython3",
   "version": "3.10.9"
  }
 },
 "nbformat": 4,
 "nbformat_minor": 5
}
