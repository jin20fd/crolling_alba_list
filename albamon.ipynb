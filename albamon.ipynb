{
 "cells": [
  {
   "cell_type": "code",
   "execution_count": 284,
   "id": "473cd8ee",
   "metadata": {},
   "outputs": [],
   "source": [
    "from selenium import webdriver\n",
    "from selenium.webdriver.edge.service import Service\n",
    "from webdriver_manager.microsoft import EdgeChromiumDriverManager\n",
    "from selenium.webdriver.common.by import By\n",
    "import time\n",
    "import csv\n",
    "import re\n",
    "from bs4 import BeautifulSoup\n",
    "import requests"
   ]
  },
  {
   "cell_type": "code",
   "execution_count": 285,
   "id": "0b7b9ccc",
   "metadata": {},
   "outputs": [
    {
     "data": {
      "text/plain": [
       "93"
      ]
     },
     "execution_count": 285,
     "metadata": {},
     "output_type": "execute_result"
    }
   ],
   "source": [
    "# csv파일 생성 및 쓰기\n",
    "f = open(\"albamon_data2.csv\", \"w\")\n",
    "wrt = csv.writer(f)\n",
    "wrt.writerow([\"근무지역\", \"기업명\", \"공고 제목 및 내용\", \"근무시간\", \"급여\", \"공고 등록일\", \"공고글URL\",\"성별\", \"연령\", \"모집직종\", \"급여\", \"근무기간\", \"근무요일\", \"근무시간\", \"지원마감일\", \"근무지주소\", \"지원방법\", \"담당자\"])"
   ]
  },
  {
   "cell_type": "code",
   "execution_count": 286,
   "id": "fa546e7b",
   "metadata": {},
   "outputs": [],
   "source": [
    "# 자동화된 Edge 창 실행\n",
    "edge_driver = EdgeChromiumDriverManager().install()\n",
    "service = Service(edge_driver)\n",
    "driver = webdriver.Edge(service=service)"
   ]
  },
  {
   "cell_type": "code",
   "execution_count": 287,
   "id": "dc769f01",
   "metadata": {},
   "outputs": [],
   "source": [
    "# 알바몬 웹페이지 접속(광진구, 알바에 해당하는 데이터만 필터링)\n",
    "url = \"https://www.albamon.com/jobs/total?size=50&page=1&condition=%7B%22condition%22%3A%7B%22areas%22%3A%5B%7B%22si%22%3A%22I000%22%2C%22gu%22%3A%22I060%22%2C%22dong%22%3A%22%22%2C%22name%22%3A%22%EA%B4%91%EC%A7%84%EA%B5%AC+%EC%A0%84%EC%B2%B4%22%7D%5D%2C%22similarDongJoin%22%3Afalse%2C%22parts%22%3A%5B%5D%2C%22workPeriodTypes%22%3A%5B%5D%2C%22workWeekTypes%22%3A%5B%5D%2C%22workDayTypes%22%3A%5B%5D%2C%22workTimeTypes%22%3A%5B%5D%2C%22excludeNegoAge%22%3Afalse%2C%22employmentTypes%22%3A%5B%22ALBA%22%5D%2C%22excludeBar%22%3Atrue%7D%2C%22extensionCondition%22%3A%7B%22area%22%3A%7B%7D%2C%22brand%22%3A%7B%7D%2C%22franchise%22%3A%7B%7D%2C%22franchiseStore%22%3A%7B%7D%2C%22callCenter%22%3A%7B%7D%2C%22guerrilla%22%3A%7B%7D%2C%22map%22%3A%7B%22radius%22%3A120%2C%22zoom%22%3A0%7D%2C%22miniJob%22%3A%7B%7D%2C%22ongoing%22%3A%7B%7D%2C%22part%22%3A%7B%7D%2C%22pay%22%3A%7B%7D%2C%22preference%22%3A%7B%7D%2C%22recent%22%3A%7B%7D%2C%22scrap%22%3A%7B%7D%2C%22search%22%3A%7B%22disableExceptedConditions%22%3A%5B%5D%2C%22suitBannerNo%22%3A0%7D%2C%22season%22%3A%7B%7D%2C%22senior%22%3A%7B%7D%2C%22shortTerm%22%3A%7B%7D%2C%22specUp%22%3A%7B%7D%2C%22subway%22%3A%7B%7D%2C%22suit%22%3A%7B%7D%2C%22teenager%22%3A%7B%7D%2C%22town%22%3A%7B%22similarDongJoin%22%3Afalse%7D%2C%22trust%22%3A%7B%7D%2C%22university%22%3A%7B%7D%2C%22welfare%22%3A%7B%7D%7D%7D\"\n",
    "driver.get(url)\n",
    "time.sleep(2)"
   ]
  },
  {
   "cell_type": "code",
   "execution_count": 288,
   "id": "8368f01d",
   "metadata": {},
   "outputs": [],
   "source": [
    "# 선택된 창이 꼬이지 않도록 초기화\n",
    "driver.switch_to.window(driver.window_handles[0])"
   ]
  },
  {
   "cell_type": "code",
   "execution_count": 289,
   "id": "83ded2b9",
   "metadata": {},
   "outputs": [],
   "source": [
    "# 검색 화면 공고 리스트\n",
    "alba_list = driver.find_elements(By.XPATH, \"/html/body/div[1]/div/div[1]/main/div[2]/div[1]/div/div[2]/div[2]/ul\")"
   ]
  },
  {
   "cell_type": "code",
   "execution_count": 290,
   "id": "f213e9eb",
   "metadata": {},
   "outputs": [
    {
     "name": "stdout",
     "output_type": "stream",
     "text": [
      "50\n"
     ]
    }
   ],
   "source": [
    "rows = []\n",
    "for alba in alba_list:\n",
    "    rows.extend(alba.find_elements(By.TAG_NAME, \"li\"))\n",
    "print(len(rows))"
   ]
  },
  {
   "cell_type": "code",
   "execution_count": 291,
   "id": "56705571",
   "metadata": {},
   "outputs": [],
   "source": [
    "for row in rows:\n",
    "    \n",
    "    # 리스트목록 - 지역, 공고제목, 기업명\n",
    "    location = row.find_element(By.CLASS_NAME, \"list-item-recruit__contents--keyword-area\").text\n",
    "    title = row.find_element(By.CLASS_NAME, 'list-item-recruit__recruit-title').text\n",
    "    company = row.find_element(By.CLASS_NAME, 'ListItemRecruit_list-item-recruit__company-name__bbljH').text\n",
    "    \n",
    "    # 공고URL\n",
    "    link = row.find_element(By.CLASS_NAME, \"list-item-recruitgoogle-analytics\")\n",
    "    link_url = link.get_attribute(\"href\")\n",
    "\n",
    "    # 공고URL에 접속\n",
    "    driver.execute_script(\"window.open(arguments[0]);\", link_url)\n",
    "    time.sleep(2)\n",
    "    driver.switch_to.window(driver.window_handles[-1]) # 새 탭으로 전환\n",
    "    \n",
    "    # BeautifulSoup으로 HTML 파싱\n",
    "    soup = BeautifulSoup(driver.page_source, \"html.parser\")\n",
    "\n",
    "    ## 공고등록일\n",
    "    reg_date = driver.find_element(By.CLASS_NAME, \"job-detail__registered\").text\n",
    "    \n",
    "    ## 모집조건 리스트 선택 - 모집마감, 성별, 연령\n",
    "    applyconditions = soup.find(\"div\", class_=\"detail-recruit-work-apply__container\")\n",
    "    AC = {}\n",
    "    # 각 dl 태그에서 변수명과 변수값 가져오기\n",
    "    dl_tags = applyconditions.find_all(\"dl\")\n",
    "    for dl in dl_tags:\n",
    "        dt = dl.find(\"dt\").get_text(strip=True)\n",
    "        if dl.find(\"dd\")!=None:\n",
    "            dd = dl.find(\"dd\").get_text(strip=True)\n",
    "        AC[dt] = dd\n",
    "        \n",
    "    ## 근무주소\n",
    "    address = driver.find_element(By.CLASS_NAME, \"detail-recruit-area__address\").text\n",
    "        \n",
    "    ## 근무조건 리스트 선택 - 급여(형태 및 금액), 근무기간, 근무요일, 근무시간, 업직종\n",
    "    workconditions = soup.find(\"div\", class_=\"detail-recruit-conditions__container\")\n",
    "    WC = {}\n",
    "    # 각 dl 태그에서 변수명과 변수값 가져오기\n",
    "    dl_tags = workconditions.find_all(\"dl\")\n",
    "    for dl in dl_tags:\n",
    "        dt = dl.find(\"dt\").get_text(strip=True)\n",
    "        if dl.find(\"dd\")!=None:\n",
    "            dd = dl.find(\"dd\").get_text(strip=True)\n",
    "        WC[dt] = dd\n",
    "    \n",
    "   \n",
    "\n",
    "    # 지원방법 추출\n",
    "    apply_method = soup.find(\"div\", class_=\"detail-recruit-apply__container\")\n",
    "    apply = []\n",
    "    if apply_method is not None:\n",
    "        buttons = apply_method.find_all(\"button\")\n",
    "        for button in buttons:\n",
    "            spans = button.find_all(\"span\")\n",
    "            for span in spans:\n",
    "                if span is not None:\n",
    "                    apply.append(span.text.strip())\n",
    "\n",
    "    # 채용 담당자 연락처 추출\n",
    "    manager_contact = {}\n",
    "    manager_frame = soup.find(\"div\", class_=\"job-detail__iframe\")\n",
    "    if manager_frame is not None:\n",
    "        iframe_url = manager_frame.find(\"iframe\")[\"src\"]\n",
    "        iframe_response = requests.get(\"https://www.albamon.com\"+iframe_url)\n",
    "        iframe_soup = BeautifulSoup(iframe_response.text, \"html.parser\")\n",
    "        manager_info = iframe_soup.find(\"div\", class_=\"detail-recruit-manager__container\")\n",
    "        if manager_info is not None:\n",
    "            dl_tags = manager_info.find_all(\"dl\")\n",
    "            for dl in dl_tags:\n",
    "                dt_element = dl.find(\"dt\")\n",
    "                dd_element = dl.find(\"dd\")\n",
    "                if dt_element is not None and dd_element is not None:\n",
    "                    dt = dt_element.text.strip()\n",
    "                    dd = dd_element.text.strip()\n",
    "                    manager_contact[dt] = dd\n",
    "\n",
    "        \n",
    "    driver.close()\n",
    "    driver.switch_to.window(driver.window_handles[0])\n",
    "    wrt.writerow([location, company, title, WC[\"근무시간\"], WC[\"급여\"], reg_date, link_url, AC[\"성별\"], AC[\"연령\"],WC[\"업직종\"], WC[\"급여\"], WC[\"근무기간\"], WC[\"근무요일\"], WC[\"근무시간\"], AC[\"모집마감\"], address, apply, manager_contact])"
   ]
  },
  {
   "cell_type": "code",
   "execution_count": 292,
   "id": "8128699e",
   "metadata": {},
   "outputs": [],
   "source": [
    "#공고 창 및 파일 닫기\n",
    "driver.close()\n",
    "f.close()"
   ]
  },
  {
   "cell_type": "code",
   "execution_count": null,
   "id": "9d38ee59",
   "metadata": {},
   "outputs": [],
   "source": []
  },
  {
   "cell_type": "code",
   "execution_count": null,
   "id": "f95f852a",
   "metadata": {},
   "outputs": [],
   "source": []
  }
 ],
 "metadata": {
  "kernelspec": {
   "display_name": "Python 3 (ipykernel)",
   "language": "python",
   "name": "python3"
  },
  "language_info": {
   "codemirror_mode": {
    "name": "ipython",
    "version": 3
   },
   "file_extension": ".py",
   "mimetype": "text/x-python",
   "name": "python",
   "nbconvert_exporter": "python",
   "pygments_lexer": "ipython3",
   "version": "3.10.9"
  }
 },
 "nbformat": 4,
 "nbformat_minor": 5
}
